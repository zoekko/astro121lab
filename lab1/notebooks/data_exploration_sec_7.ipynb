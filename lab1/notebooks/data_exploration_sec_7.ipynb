{
 "cells": [
  {
   "cell_type": "code",
   "execution_count": 1,
   "metadata": {},
   "outputs": [],
   "source": [
    "import ugradio\n",
    "import numpy as np\n",
    "import matplotlib.pylab as plt\n",
    "import inspect\n",
    "import collections"
   ]
  },
  {
   "cell_type": "code",
   "execution_count": 2,
   "metadata": {},
   "outputs": [],
   "source": [
    "pwd = '/home/zoeko/astro121lab/lab1/data_sec7/'"
   ]
  },
  {
   "cell_type": "markdown",
   "metadata": {},
   "source": [
    "# 7.1\n",
    "\n",
    "Inputs:\n",
    "$\\nu_LO = 21$ MHz\n",
    "$\\nu_RF = 22$ MHz\n",
    "\n",
    "$\\nu_{sample} = 3200$ kHz\n",
    "\n",
    "\n",
    "### Data Naming Convention: dsb_3200_20.npy, where FREQ = sample frequency in kHz"
   ]
  },
  {
   "cell_type": "code",
   "execution_count": 3,
   "metadata": {},
   "outputs": [],
   "source": [
    "# Note: need to convert x axis to time using frequency to period conversion\n",
    "\n",
    "def freq_to_period(freq):\n",
    "    '''take frequency (in kHz)\n",
    "    and converts to period (in microseconds)'''\n",
    "    return (1/freq) * 1000"
   ]
  },
  {
   "cell_type": "code",
   "execution_count": 10,
   "metadata": {},
   "outputs": [],
   "source": [
    "freq = 3200\n",
    "fname = f'{pwd}dsb_3200.npy'\n",
    "data = np.load(fname)[0]\n",
    "time = np.arange(len(data)) * freq_to_period(freq) # in microseconds"
   ]
  },
  {
   "cell_type": "code",
   "execution_count": 12,
   "metadata": {},
   "outputs": [
    {
     "data": {
      "image/png": "[encoded data removed]",
      "text/plain": [
       "<Figure size 432x288 with 1 Axes>"
      ]
     },
     "metadata": {
      "needs_background": "light"
     },
     "output_type": "display_data"
    }
   ],
   "source": [
    "plt.figure()\n",
    "plt.plot(time, data)\n",
    "plt.scatter(time, data)\n",
    "# plt.xlim(0, 30)\n",
    "plt.title('Freq = ' + str(freq) + ' kHz')\n",
    "plt.xlabel('Time [microseconds]')\n",
    "plt.ylabel('Voltage [V]')\n",
    "plt.show()"
   ]
  },
  {
   "cell_type": "code",
   "execution_count": null,
   "metadata": {},
   "outputs": [],
   "source": []
  }
 ],
 "metadata": {
  "kernelspec": {
   "display_name": "venv",
   "language": "python",
   "name": "python3"
  },
  "language_info": {
   "codemirror_mode": {
    "name": "ipython",
    "version": 3
   },
   "file_extension": ".py",
   "mimetype": "text/x-python",
   "name": "python",
   "nbconvert_exporter": "python",
   "pygments_lexer": "ipython3",
   "version": "3.11.0 (main, Oct 24 2022, 18:26:48) [MSC v.1933 64 bit (AMD64)]"
  },
  "vscode": {
   "interpreter": {
    "hash": "b76301517c87d3ab1fdc462904f013ecff70047d8f55b255d91f043da04e4026"
   }
  }
 },
 "nbformat": 4,
 "nbformat_minor": 4
}
